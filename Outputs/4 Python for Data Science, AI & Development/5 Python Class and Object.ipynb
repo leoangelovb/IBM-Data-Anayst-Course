{
 "cells": [
  {
   "cell_type": "markdown",
   "id": "2104ccb2",
   "metadata": {},
   "source": [
    "# Class and object"
   ]
  },
  {
   "cell_type": "code",
   "execution_count": 44,
   "id": "9af2b2a6",
   "metadata": {},
   "outputs": [
    {
     "name": "stdout",
     "output_type": "stream",
     "text": [
      "Ada Lovelace is 24 years old\n"
     ]
    }
   ],
   "source": [
    "#Write a Python class Person constructed by two variables name and age and create object\n",
    "#that will return the following message “Name is Year years old”\n",
    "class Person:\n",
    "    def __init__(self, name, age):\n",
    "        self.name = name\n",
    "        self.age = age\n",
    "person = Person(\"Ada Lovelace\", 24)\n",
    "print(person.name, \"is\" ,person.age, \"years old\")\n",
    "    "
   ]
  },
  {
   "cell_type": "code",
   "execution_count": 22,
   "id": "f1ac7d0b",
   "metadata": {},
   "outputs": [
    {
     "name": "stdout",
     "output_type": "stream",
     "text": [
      "3\n",
      "-1\n",
      "2\n"
     ]
    }
   ],
   "source": [
    "#Write a Python class named Calculator constructed by two variables A and B and\n",
    "#methods which will compute the addition, subtraction, and multiplication.\n",
    "class Calculator:\n",
    "    def __init__(self, num1, num2):\n",
    "        self.num1 = num1\n",
    "        self.num2 = num2\n",
    "\n",
    "    def summ(self):\n",
    "        return(self.num1 + self.num2)\n",
    "    \n",
    "    def diff(self):\n",
    "        return(self.num1 - self.num2)\n",
    "    \n",
    "    def prod(self):\n",
    "        return(self.num1 * self.num2)\n",
    "    \n",
    "compute = Calculator(1, 2)\n",
    "print(compute.summ())\n",
    "print(compute.diff())\n",
    "print(compute.prod())"
   ]
  },
  {
   "cell_type": "code",
   "execution_count": 28,
   "id": "0cb5bbce",
   "metadata": {},
   "outputs": [
    {
     "name": "stdout",
     "output_type": "stream",
     "text": [
      "Area is:  120\n"
     ]
    }
   ],
   "source": [
    "#Write a Python class named Rectangle constructed by a length and width and a method\n",
    "#which will compute the area of a rectangle.\n",
    "class Rectangle:\n",
    "    def __init__(self, length, width):\n",
    "        self.length = length\n",
    "        self.width = width\n",
    "    \n",
    "    def computerRec(self):\n",
    "        return(self.length * self.width)\n",
    "\n",
    "area = Rectangle(12, 10)\n",
    "print(\"Area is: \",area.computerRec())"
   ]
  },
  {
   "cell_type": "code",
   "execution_count": 40,
   "id": "e92e6792",
   "metadata": {},
   "outputs": [
    {
     "name": "stdout",
     "output_type": "stream",
     "text": [
      "('Not valid', 13)\n"
     ]
    }
   ],
   "source": [
    "#Write a Python class named Valid constructed by a age and a method which will tell if\n",
    "#given age is valid for vote or not.\n",
    "class Valid:\n",
    "    def __init__(self, age):\n",
    "        self.age = age\n",
    "\n",
    "    def vote(self):\n",
    "        if(self.age>=18):\n",
    "            return(\"Valid\",self.age)\n",
    "        \n",
    "        else:\n",
    "            return(\"Not valid\", self.age)\n",
    "\n",
    "result = Valid(13)\n",
    "print(result.vote())"
   ]
  },
  {
   "cell_type": "code",
   "execution_count": 49,
   "id": "b6ef8002",
   "metadata": {},
   "outputs": [
    {
     "name": "stdout",
     "output_type": "stream",
     "text": [
      "olleh\n"
     ]
    }
   ],
   "source": [
    "#Write a Python class to reverse a string word by word. Input string: 'hello'\n",
    "class textprocess:\n",
    "    def __init__(self, text):\n",
    "        self.text = text\n",
    "    \n",
    "    def reverse(self):\n",
    "        return self.text[::-1]\n",
    "\n",
    "word = textprocess(\"hello\")\n",
    "print(word.reverse())"
   ]
  },
  {
   "cell_type": "code",
   "execution_count": null,
   "id": "ff73b1c6",
   "metadata": {},
   "outputs": [],
   "source": []
  }
 ],
 "metadata": {
  "kernelspec": {
   "display_name": "Python 3 (ipykernel)",
   "language": "python",
   "name": "python3"
  },
  "language_info": {
   "codemirror_mode": {
    "name": "ipython",
    "version": 3
   },
   "file_extension": ".py",
   "mimetype": "text/x-python",
   "name": "python",
   "nbconvert_exporter": "python",
   "pygments_lexer": "ipython3",
   "version": "3.9.7"
  }
 },
 "nbformat": 4,
 "nbformat_minor": 5
}
