{
 "cells": [
  {
   "cell_type": "code",
   "execution_count": 140,
   "metadata": {
    "colab": {
     "base_uri": "https://localhost:8080/"
    },
    "executionInfo": {
     "elapsed": 151,
     "status": "ok",
     "timestamp": 1647964634042,
     "user": {
      "displayName": "Leo Angelo Bacolores",
      "photoUrl": "https://lh3.googleusercontent.com/a-/AOh14Ghxw72LINak5IPndBNQJKssKEQ0mFWmuxg_xW4=s64",
      "userId": "05897216964439718567"
     },
     "user_tz": 240
    },
    "id": "VJQrnPVHS0Is",
    "outputId": "adb4aea9-e4a0-4757-b38a-f40846078683"
   },
   "outputs": [
    {
     "name": "stdout",
     "output_type": "stream",
     "text": [
      "\n"
     ]
    }
   ],
   "source": [
    "#Q1. Write a function in Python that counts the number of “Me” or\n",
    "#“My” (in smaller case also) words present in a text file\n",
    "#“STORY.TXT”. If the “STORY.TXT” contents are as follows:\n",
    "#My first book was Me and My Family. It gave me chance to be\n",
    "#Known to the world.\n",
    "\n",
    "f = open(\"story.txt\", \"a+\")\n",
    "f.write(\"My first book was Me and My Family. It gave me chance to be Known to the world.\")\n",
    "sentence = f.read()\n",
    "f.close()\n",
    "\n",
    "print(sentence)"
   ]
  },
  {
   "cell_type": "code",
   "execution_count": null,
   "metadata": {},
   "outputs": [],
   "source": []
  }
 ],
 "metadata": {
  "colab": {
   "authorship_tag": "ABX9TyPIRdgdHoIGq4AQsZSaFACH",
   "name": "File Handling.ipynb",
   "provenance": []
  },
  "kernelspec": {
   "display_name": "Python 3 (ipykernel)",
   "language": "python",
   "name": "python3"
  },
  "language_info": {
   "codemirror_mode": {
    "name": "ipython",
    "version": 3
   },
   "file_extension": ".py",
   "mimetype": "text/x-python",
   "name": "python",
   "nbconvert_exporter": "python",
   "pygments_lexer": "ipython3",
   "version": "3.9.7"
  }
 },
 "nbformat": 4,
 "nbformat_minor": 1
}
