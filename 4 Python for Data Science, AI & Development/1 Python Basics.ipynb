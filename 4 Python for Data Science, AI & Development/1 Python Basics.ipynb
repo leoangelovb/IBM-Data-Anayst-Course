{
 "cells": [
  {
   "cell_type": "code",
   "execution_count": 1,
   "id": "f390ce95",
   "metadata": {},
   "outputs": [
    {
     "name": "stdout",
     "output_type": "stream",
     "text": [
      "49\n"
     ]
    }
   ],
   "source": [
    " x = 4\n",
    " y= 3\n",
    "print((x+y)*(x+y))"
   ]
  },
  {
   "cell_type": "code",
   "execution_count": 3,
   "id": "314d4710",
   "metadata": {},
   "outputs": [
    {
     "name": "stdout",
     "output_type": "stream",
     "text": [
      "12345.0\n"
     ]
    }
   ],
   "source": [
    "x =  \"12345\"\n",
    "#y =  \"12345bc\"\n",
    "a = float(x)\n",
    "#b = int(y)\n",
    "print (a)\n",
    "#print(b)\n",
    "\n"
   ]
  },
  {
   "cell_type": "code",
   "execution_count": 5,
   "id": "96604e14",
   "metadata": {},
   "outputs": [
    {
     "name": "stdout",
     "output_type": "stream",
     "text": [
      "14\n"
     ]
    }
   ],
   "source": [
    "n = [5,4,3,2,1,-1]\n",
    "print(sum(n))\n",
    "\n",
    " "
   ]
  },
  {
   "cell_type": "code",
   "execution_count": 9,
   "id": "4b6f5c51",
   "metadata": {},
   "outputs": [
    {
     "name": "stdout",
     "output_type": "stream",
     "text": [
      "Enter the distance in feet 12\n",
      "Distance in inches :  144\n",
      "Distance in Yards :  4.0\n",
      "Distance in miles :  0.0022727272727272726\n"
     ]
    }
   ],
   "source": [
    "distance = int(input(\"Enter the distance in feet \"))\n",
    "\n",
    "inches = distance * 12\n",
    "yards = distance / 3 \n",
    "miles = yards / 1760 \n",
    "\n",
    "print(\"Distance in inches : \" ,inches)\n",
    "print(\"Distance in Yards : \" , yards)\n",
    "print(\"Distance in miles : \",miles)\n"
   ]
  },
  {
   "cell_type": "code",
   "execution_count": 14,
   "id": "7054bf38",
   "metadata": {},
   "outputs": [
    {
     "name": "stdout",
     "output_type": "stream",
     "text": [
      "Enter the hour 12\n",
      "Total time in seconds 1080720.0\n"
     ]
    }
   ],
   "source": [
    "Unitoftime = float(input(\"Enter the hour \"))\n",
    "#days = float(input(\"Enter the days\"))\n",
    "#minutes  = float(input(\"Enter the minutes\"))\n",
    "\n",
    "hours = Unitoftime * 60 * 60 \n",
    "days = Unitoftime* 24 * 60 * 60\n",
    "mins = Unitoftime * 60\n",
    "print ( \"Total time in seconds\", hours  + days + mins)"
   ]
  },
  {
   "cell_type": "code",
   "execution_count": 19,
   "id": "4e20b3c7",
   "metadata": {},
   "outputs": [
    {
     "name": "stdout",
     "output_type": "stream",
     "text": [
      "Enter time in Seconds:890000000\n",
      "Day:  133499998800.0 Hour:  247222.0 Minutes 14833333.0\n"
     ]
    }
   ],
   "source": [
    "time = float(input(\"Enter time in Seconds:\" ))\n",
    "day = time // 24 * 3600\n",
    "hour = time // 3600\n",
    "minutes = time // 60\n",
    "\n",
    "print(\"Day: \", day, \"Hour: \",hour , \"Minutes\", minutes )\n",
    "\n",
    "\n"
   ]
  },
  {
   "cell_type": "code",
   "execution_count": 20,
   "id": "70824fad",
   "metadata": {},
   "outputs": [
    {
     "name": "stdout",
     "output_type": "stream",
     "text": [
      "70\n"
     ]
    }
   ],
   "source": [
    "x = 30\n",
    "y = 40\n",
    "print(x + y)"
   ]
  },
  {
   "cell_type": "code",
   "execution_count": 21,
   "id": "8ba3adbe",
   "metadata": {},
   "outputs": [
    {
     "name": "stdout",
     "output_type": "stream",
     "text": [
      "Enter something : abc\n",
      "<class 'str'>\n"
     ]
    }
   ],
   "source": [
    "x = input(\"Enter something : \")\n",
    "print(type(x))"
   ]
  },
  {
   "cell_type": "code",
   "execution_count": 27,
   "id": "a2a1d77a",
   "metadata": {},
   "outputs": [
    {
     "name": "stdout",
     "output_type": "stream",
     "text": [
      "80\n",
      "3\n"
     ]
    }
   ],
   "source": [
    "i = [10,40,3,50,80]\n",
    "\n",
    "print(max(i)) \n",
    "print(min(i))\n",
    "    "
   ]
  },
  {
   "cell_type": "code",
   "execution_count": 29,
   "id": "6aef0bfc",
   "metadata": {},
   "outputs": [
    {
     "name": "stdout",
     "output_type": "stream",
     "text": [
      "Enter day of the month: 2\n",
      "This is not the first day of the month\n"
     ]
    }
   ],
   "source": [
    "month_day = int(input(\"Enter day of the month: \"))\n",
    "if month_day == 1:\n",
    "\tprint(\"First day of a Month!\")\n",
    "else:\n",
    "    print(\"This is not the first day of the month\")\n"
   ]
  },
  {
   "cell_type": "code",
   "execution_count": null,
   "id": "571bbf6a",
   "metadata": {},
   "outputs": [],
   "source": []
  }
 ],
 "metadata": {
  "kernelspec": {
   "display_name": "Python 3 (ipykernel)",
   "language": "python",
   "name": "python3"
  },
  "language_info": {
   "codemirror_mode": {
    "name": "ipython",
    "version": 3
   },
   "file_extension": ".py",
   "mimetype": "text/x-python",
   "name": "python",
   "nbconvert_exporter": "python",
   "pygments_lexer": "ipython3",
   "version": "3.9.7"
  }
 },
 "nbformat": 4,
 "nbformat_minor": 5
}
